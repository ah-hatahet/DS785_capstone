{
  "nbformat": 4,
  "nbformat_minor": 0,
  "metadata": {
    "colab": {
      "name": "DS785_capstone_code.ipynb",
      "provenance": []
    },
    "kernelspec": {
      "name": "python3",
      "display_name": "Python 3"
    },
    "language_info": {
      "name": "python"
    },
    "accelerator": "GPU"
  },
  "cells": [
    {
      "cell_type": "markdown",
      "metadata": {
        "id": "E-0gc9BPUoz7"
      },
      "source": [
        "### Import libraries"
      ]
    },
    {
      "cell_type": "code",
      "metadata": {
        "id": "b6MNCv0zUoLa"
      },
      "source": [
        "import pandas as pd \n",
        "import numpy as np\n",
        "import matplotlib.pyplot as plt\n",
        "import jsonlines\n",
        "from transformers import pipeline\n",
        "from difflib import SequenceMatcher\n",
        "from nltk.corpus import stopwords\n",
        "from nltk.cluster.util import cosine_distance\n",
        "import networkx as nx\n",
        "from tensorflow.keras.preprocessing.text import Tokenizer\n",
        "from tensorflow.keras.preprocessing.sequence import pad_sequences\n",
        "from tensorflow.keras.layers import Input, LSTM, Embedding, Dense, \\\n",
        "    Concatenate, TimeDistributed\n",
        "from tensorflow.keras.models import Model\n",
        "from tensorflow.keras.callbacks import EarlyStopping"
      ],
      "execution_count": 44,
      "outputs": []
    },
    {
      "cell_type": "markdown",
      "metadata": {
        "id": "LoGwqlRTU5Tm"
      },
      "source": [
        "### Key functions"
      ]
    },
    {
      "cell_type": "code",
      "metadata": {
        "id": "83PPXUBgU9nU"
      },
      "source": [
        "# function to calculate similary between two sentences\n",
        "def similar(a, b):\n",
        "    return SequenceMatcher(None, a, b).ratio()"
      ],
      "execution_count": 18,
      "outputs": []
    },
    {
      "cell_type": "code",
      "metadata": {
        "id": "kZJwES28rA1s"
      },
      "source": [
        "# COSINE SIMILARITY MODEL FUNCTIONS\n",
        "\n",
        "# function to preprocess text by replacing puncuations with periods ('.') and splitting with spaces (' ') for easier text segmentation\n",
        "def preprocess_dialogue(dialogue):\n",
        "    dialogue = dialogue.replace('!','.').replace('?','.').split(\".#\")\n",
        "    sentences = []\n",
        "    for sentence in dialogue:\n",
        "        sentences.append(sentence.replace(\"[^a-zA-Z]\", \" \").split(\" \"))\n",
        "    sentences.pop() \n",
        "    \n",
        "    return sentences\n",
        "\n",
        "# function to calculate similarity between two sentences\n",
        "def sentence_similarity(sent1, sent2, stopwords=None):\n",
        "    if stopwords is None:\n",
        "        stopwords = []\n",
        " \n",
        "    sent1 = [w.lower() for w in sent1]\n",
        "    sent2 = [w.lower() for w in sent2]\n",
        " \n",
        "    all_words = list(set(sent1 + sent2))\n",
        " \n",
        "    vector1 = [0] * len(all_words)\n",
        "    vector2 = [0] * len(all_words)\n",
        " \n",
        "    for w in sent1:\n",
        "        if w in stopwords:\n",
        "            continue\n",
        "        vector1[all_words.index(w)] += 1\n",
        " \n",
        "    for w in sent2:\n",
        "        if w in stopwords:\n",
        "            continue\n",
        "        vector2[all_words.index(w)] += 1\n",
        " \n",
        "    return 1 - cosine_distance(vector1, vector2)\n",
        " \n",
        "# function to create similarity matrix\n",
        "def build_similarity_matrix(sentences, stop_words):\n",
        "    \n",
        "    similarity_matrix = np.zeros((len(sentences), len(sentences)))\n",
        " \n",
        "    for idx1 in range(len(sentences)):\n",
        "        for idx2 in range(len(sentences)):\n",
        "            if idx1 == idx2: \n",
        "                continue \n",
        "            similarity_matrix[idx1][idx2] = sentence_similarity(sentences[idx1], sentences[idx2], stop_words)\n",
        "\n",
        "    return similarity_matrix\n",
        "\n",
        "\n",
        "# cosine similarity summary generator\n",
        "def generate_summary(text):\n",
        "    stop_words = stopwords.words('english')\n",
        "    summarize_text = []\n",
        "\n",
        "    # Preprocess text\n",
        "    org_sentences =  preprocess_dialogue(text)\n",
        "    sentences = []\n",
        "    for sent in org_sentences:\n",
        "        if len(sent) > 1:\n",
        "            sentences.append(sent)\n",
        "\n",
        "    # Generate simialrity matrix\n",
        "    sentence_similarity_martix = build_similarity_matrix(sentences, stop_words)\n",
        "\n",
        "    # Rank sentences\n",
        "    sentence_similarity_graph = nx.from_numpy_array(sentence_similarity_martix)\n",
        "    scores = nx.pagerank(sentence_similarity_graph)\n",
        "\n",
        "    # Pick the most important sentences\n",
        "    ranked_sentence = sorted(((scores[i],s) for i,s in enumerate(sentences)), reverse=True)    \n",
        "    summarize_text = []\n",
        "    summary_size = round((40/(100)) * len(ranked_sentence))\n",
        "    for i in range(summary_size):\n",
        "        summarize_text.append(\" \".join(ranked_sentence[i][1]))\n",
        "    summary = \". \".join(summarize_text)\n",
        "    return summary"
      ],
      "execution_count": 19,
      "outputs": []
    },
    {
      "cell_type": "code",
      "metadata": {
        "id": "8lL72U_x0MN8"
      },
      "source": [
        "# 'Attention' layer architicture - Original source: https://arxiv.org/pdf/1409.0473.pdf\n",
        "\n",
        "import tensorflow as tf\n",
        "import os\n",
        "from tensorflow.python.keras.layers import Layer\n",
        "from tensorflow.python.keras import backend as K\n",
        "\n",
        "\n",
        "class AttentionLayer(Layer):\n",
        "    \n",
        "    def __init__(self, **kwargs):\n",
        "        super(AttentionLayer, self).__init__(**kwargs)\n",
        "\n",
        "    def build(self, input_shape):\n",
        "        assert isinstance(input_shape, list)\n",
        "\n",
        "        self.W_a = self.add_weight(name='W_a',\n",
        "                                   shape=tf.TensorShape((input_shape[0][2], input_shape[0][2])),\n",
        "                                   initializer='uniform',\n",
        "                                   trainable=True)\n",
        "        self.U_a = self.add_weight(name='U_a',\n",
        "                                   shape=tf.TensorShape((input_shape[1][2], input_shape[0][2])),\n",
        "                                   initializer='uniform',\n",
        "                                   trainable=True)\n",
        "        self.V_a = self.add_weight(name='V_a',\n",
        "                                   shape=tf.TensorShape((input_shape[0][2], 1)),\n",
        "                                   initializer='uniform',\n",
        "                                   trainable=True)\n",
        "\n",
        "        super(AttentionLayer, self).build(input_shape)  # Be sure to call this at the end\n",
        "\n",
        "    def call(self, inputs, verbose=False):\n",
        "        \n",
        "        assert type(inputs) == list\n",
        "        encoder_out_seq, decoder_out_seq = inputs\n",
        "        if verbose:\n",
        "            print('encoder_out_seq>', encoder_out_seq.shape)\n",
        "            print('decoder_out_seq>', decoder_out_seq.shape)\n",
        "\n",
        "        def energy_step(inputs, states):\n",
        "            \n",
        "            assert_msg = \"States must be a list. However states {} is of type {}\".format(states, type(states))\n",
        "            assert isinstance(states, list) or isinstance(states, tuple), assert_msg\n",
        "\n",
        "            en_seq_len, en_hidden = encoder_out_seq.shape[1], encoder_out_seq.shape[2]\n",
        "            de_hidden = inputs.shape[-1]\n",
        "\n",
        "            # <= batch_size*en_seq_len, latent_dim\n",
        "            reshaped_enc_outputs = K.reshape(encoder_out_seq, (-1, en_hidden))\n",
        "            # <= batch_size*en_seq_len, latent_dim\n",
        "            W_a_dot_s = K.reshape(K.dot(reshaped_enc_outputs, self.W_a), (-1, en_seq_len, en_hidden))\n",
        "            if verbose:\n",
        "                print('wa.s>',W_a_dot_s.shape)\n",
        "\n",
        "            U_a_dot_h = K.expand_dims(K.dot(inputs, self.U_a), 1)  # <= batch_size, 1, latent_dim\n",
        "            if verbose:\n",
        "                print('Ua.h>',U_a_dot_h.shape)\n",
        "\n",
        "            # <= batch_size*en_seq_len, latent_dim\n",
        "            reshaped_Ws_plus_Uh = K.tanh(K.reshape(W_a_dot_s + U_a_dot_h, (-1, en_hidden)))\n",
        "            if verbose:\n",
        "                print('Ws+Uh>', reshaped_Ws_plus_Uh.shape)\n",
        "\n",
        "            # <= batch_size, en_seq_len\n",
        "            e_i = K.reshape(K.dot(reshaped_Ws_plus_Uh, self.V_a), (-1, en_seq_len))\n",
        "            # <= batch_size, en_seq_len\n",
        "            e_i = K.softmax(e_i)\n",
        "\n",
        "            if verbose:\n",
        "                print('ei>', e_i.shape)\n",
        "\n",
        "            return e_i, [e_i]\n",
        "\n",
        "        def context_step(inputs, states):\n",
        "            \"\"\" Step function for computing ci using ei \"\"\"\n",
        "            # <= batch_size, hidden_size\n",
        "            c_i = K.sum(encoder_out_seq * K.expand_dims(inputs, -1), axis=1)\n",
        "            if verbose:\n",
        "                print('ci>', c_i.shape)\n",
        "            return c_i, [c_i]\n",
        "\n",
        "        def create_inital_state(inputs, hidden_size):\n",
        "\n",
        "            fake_state = K.zeros_like(inputs)  # <= (batch_size, enc_seq_len, latent_dim\n",
        "            fake_state = K.sum(fake_state, axis=[1, 2])  # <= (batch_size)\n",
        "            fake_state = K.expand_dims(fake_state)  # <= (batch_size, 1)\n",
        "            fake_state = K.tile(fake_state, [1, hidden_size])  # <= (batch_size, latent_dim\n",
        "            return fake_state\n",
        "\n",
        "        fake_state_c = create_inital_state(encoder_out_seq, encoder_out_seq.shape[-1])\n",
        "        fake_state_e = create_inital_state(encoder_out_seq, encoder_out_seq.shape[1])  # <= (batch_size, enc_seq_len, latent_dim\n",
        "\n",
        "\n",
        "        # e_outputs => (batch_size, de_seq_len, en_seq_len)\n",
        "        last_out, e_outputs, _ = K.rnn(\n",
        "            energy_step, decoder_out_seq, [fake_state_e],\n",
        "        )\n",
        "\n",
        "        last_out, c_outputs, _ = K.rnn(\n",
        "            context_step, e_outputs, [fake_state_c],\n",
        "        )\n",
        "\n",
        "        return c_outputs, e_outputs\n",
        "\n",
        "    def compute_output_shape(self, input_shape):\n",
        "        return [\n",
        "            tf.TensorShape((input_shape[1][0], input_shape[1][1], input_shape[1][2])),\n",
        "            tf.TensorShape((input_shape[1][0], input_shape[1][1], input_shape[0][1]))\n",
        "        ]"
      ],
      "execution_count": 20,
      "outputs": []
    },
    {
      "cell_type": "markdown",
      "metadata": {
        "id": "fjPbE7fHVK9_"
      },
      "source": [
        "## Import data"
      ]
    },
    {
      "cell_type": "code",
      "metadata": {
        "id": "bCgldWGZ02jU"
      },
      "source": [
        "import json\n",
        "import pandas as pd\n",
        "import jsonlines\n",
        "\n",
        "val_path = 'dialogsum.dev.jsonl'\n",
        "test_path = 'dialogsum.test.jsonl'\n",
        "train_path = 'dialogsum.train.jsonl'\n",
        "\n",
        "val = []\n",
        "with open(val_path, \"r+\", encoding=\"utf8\") as f:\n",
        "    for item in jsonlines.Reader(f):\n",
        "        val.append(item)\n",
        "    f.close()\n",
        "    \n",
        "test = []\n",
        "with open(test_path, \"r+\", encoding=\"utf8\") as f:\n",
        "    for item in jsonlines.Reader(f):\n",
        "        test.append(item)\n",
        "    f.close()\n",
        "      \n",
        "train = []\n",
        "with open(train_path, \"r+\", encoding=\"utf8\") as f:\n",
        "    for item in jsonlines.Reader(f):\n",
        "        train.append(item)\n",
        "    f.close()\n",
        "    \n",
        "    \n",
        "data = train+test+val\n",
        "assert len(data) == len(train) + len(test) + len(val)\n",
        "\n",
        "df = pd.DataFrame(data)\n",
        "df = df\n",
        "df['dialogue'] = df['dialogue'].str.replace('\\r', '')\n",
        "df['dialogue'] = df['dialogue'].str.replace('\\n', '')\n",
        "df['summary'] = df['summary'].str.replace('\\r', '')\n",
        "df['summary'] = df['summary'].str.replace('\\n', '')\n",
        "\n",
        "df = df[['dialogue','summary']]"
      ],
      "execution_count": 46,
      "outputs": []
    },
    {
      "cell_type": "markdown",
      "metadata": {
        "id": "62wzFXDoVvbX"
      },
      "source": [
        "## Remove empty rows"
      ]
    },
    {
      "cell_type": "code",
      "metadata": {
        "colab": {
          "base_uri": "https://localhost:8080/"
        },
        "id": "PmmQDaTFVxuO",
        "outputId": "cfd353f4-3a25-48b5-d9e3-a5acfff536e2"
      },
      "source": [
        "print(len(df))"
      ],
      "execution_count": 47,
      "outputs": [
        {
          "output_type": "stream",
          "text": [
            "13460\n"
          ],
          "name": "stdout"
        }
      ]
    },
    {
      "cell_type": "code",
      "metadata": {
        "id": "c__ty2KuVz7k"
      },
      "source": [
        "df = df.dropna(axis=0, subset=['summary'])"
      ],
      "execution_count": 48,
      "outputs": []
    },
    {
      "cell_type": "code",
      "metadata": {
        "colab": {
          "base_uri": "https://localhost:8080/"
        },
        "id": "3PtvrNmhV3jr",
        "outputId": "d837a61a-43e8-499a-bb36-43094ca0fd47"
      },
      "source": [
        "print(len(df))"
      ],
      "execution_count": 49,
      "outputs": [
        {
          "output_type": "stream",
          "text": [
            "12960\n"
          ],
          "name": "stdout"
        }
      ]
    },
    {
      "cell_type": "code",
      "metadata": {
        "colab": {
          "base_uri": "https://localhost:8080/",
          "height": 204
        },
        "id": "hlbr7TjrWGYu",
        "outputId": "b0fdbb4c-45a4-46d2-a820-b60237b5d897"
      },
      "source": [
        "df.head()"
      ],
      "execution_count": 50,
      "outputs": [
        {
          "output_type": "execute_result",
          "data": {
            "text/html": [
              "<div>\n",
              "<style scoped>\n",
              "    .dataframe tbody tr th:only-of-type {\n",
              "        vertical-align: middle;\n",
              "    }\n",
              "\n",
              "    .dataframe tbody tr th {\n",
              "        vertical-align: top;\n",
              "    }\n",
              "\n",
              "    .dataframe thead th {\n",
              "        text-align: right;\n",
              "    }\n",
              "</style>\n",
              "<table border=\"1\" class=\"dataframe\">\n",
              "  <thead>\n",
              "    <tr style=\"text-align: right;\">\n",
              "      <th></th>\n",
              "      <th>dialogue</th>\n",
              "      <th>summary</th>\n",
              "    </tr>\n",
              "  </thead>\n",
              "  <tbody>\n",
              "    <tr>\n",
              "      <th>0</th>\n",
              "      <td>#Person1#: Hi, Mr. Smith. I'm Doctor Hawkins. ...</td>\n",
              "      <td>Mr. Smith's getting a check-up, and Doctor Haw...</td>\n",
              "    </tr>\n",
              "    <tr>\n",
              "      <th>1</th>\n",
              "      <td>#Person1#: Hello Mrs. Parker, how have you bee...</td>\n",
              "      <td>Mrs Parker takes Ricky for his vaccines. Dr. P...</td>\n",
              "    </tr>\n",
              "    <tr>\n",
              "      <th>2</th>\n",
              "      <td>#Person1#: Excuse me, did you see a set of key...</td>\n",
              "      <td>#Person1#'s looking for a set of keys and asks...</td>\n",
              "    </tr>\n",
              "    <tr>\n",
              "      <th>3</th>\n",
              "      <td>#Person1#: Why didn't you tell me you had a gi...</td>\n",
              "      <td>#Person1#'s angry because #Person2# didn't tel...</td>\n",
              "    </tr>\n",
              "    <tr>\n",
              "      <th>4</th>\n",
              "      <td>#Person1#: Watsup, ladies! Y'll looking'fine t...</td>\n",
              "      <td>Malik invites Nikki to dance. Nikki agrees if ...</td>\n",
              "    </tr>\n",
              "  </tbody>\n",
              "</table>\n",
              "</div>"
            ],
            "text/plain": [
              "                                            dialogue                                            summary\n",
              "0  #Person1#: Hi, Mr. Smith. I'm Doctor Hawkins. ...  Mr. Smith's getting a check-up, and Doctor Haw...\n",
              "1  #Person1#: Hello Mrs. Parker, how have you bee...  Mrs Parker takes Ricky for his vaccines. Dr. P...\n",
              "2  #Person1#: Excuse me, did you see a set of key...  #Person1#'s looking for a set of keys and asks...\n",
              "3  #Person1#: Why didn't you tell me you had a gi...  #Person1#'s angry because #Person2# didn't tel...\n",
              "4  #Person1#: Watsup, ladies! Y'll looking'fine t...  Malik invites Nikki to dance. Nikki agrees if ..."
            ]
          },
          "metadata": {
            "tags": []
          },
          "execution_count": 50
        }
      ]
    },
    {
      "cell_type": "markdown",
      "metadata": {
        "id": "P-L_a_9HWLww"
      },
      "source": [
        "## Plot the data"
      ]
    },
    {
      "cell_type": "code",
      "metadata": {
        "colab": {
          "base_uri": "https://localhost:8080/",
          "height": 281
        },
        "id": "8S6pgAktWKP3",
        "outputId": "6ae6e4ec-261d-43f9-9715-684085db1779"
      },
      "source": [
        "dialogues_word_count = []\n",
        "summaries_word_count = []\n",
        "\n",
        "for i in df['dialogue']:\n",
        "    dialogues_word_count.append(len(i.split()))\n",
        "for i in df['summary']:\n",
        "    summaries_word_count.append(len(i.split()))\n",
        "\n",
        "length_df = pd.DataFrame({'dialogues': dialogues_word_count, 'summaries': summaries_word_count})\n",
        "length_df.hist(bins=15)\n",
        "plt.show()"
      ],
      "execution_count": 51,
      "outputs": [
        {
          "output_type": "display_data",
          "data": {
            "image/png": "[encoded data removed]",
            "text/plain": [
              "<Figure size 432x288 with 2 Axes>"
            ]
          },
          "metadata": {
            "tags": [],
            "needs_background": "light"
          }
        }
      ]
    },
    {
      "cell_type": "code",
      "metadata": {
        "colab": {
          "base_uri": "https://localhost:8080/"
        },
        "id": "czNUcRExWQG4",
        "outputId": "9021bfab-f2d7-49ef-84d8-ba96e9eb293b"
      },
      "source": [
        "count = 0\n",
        "for i in df['dialogue']:\n",
        "    if(len(i.split())<=500):\n",
        "        count += 1\n",
        "print(count/len(df['dialogue']))"
      ],
      "execution_count": 53,
      "outputs": [
        {
          "output_type": "stream",
          "text": [
            "0.9977623456790123\n"
          ],
          "name": "stdout"
        }
      ]
    },
    {
      "cell_type": "code",
      "metadata": {
        "colab": {
          "base_uri": "https://localhost:8080/"
        },
        "id": "P2G_P94MWSIQ",
        "outputId": "e3ada01e-8706-484a-ba9f-8a541f5eb396"
      },
      "source": [
        "count = 0\n",
        "for i in df['summary']:\n",
        "    if(len(i.split())<=100):\n",
        "        count += 1\n",
        "print(count/len(df['dialogue']))"
      ],
      "execution_count": 54,
      "outputs": [
        {
          "output_type": "stream",
          "text": [
            "0.9993055555555556\n"
          ],
          "name": "stdout"
        }
      ]
    },
    {
      "cell_type": "markdown",
      "metadata": {
        "id": "EJUeHhmHWT1h"
      },
      "source": [
        "Most dialogues (99.8%) have lengths of 500 maximum while most summaries (99.9%) have lengths of 100 maximum."
      ]
    },
    {
      "cell_type": "markdown",
      "metadata": {
        "id": "wWbSYZZ5WWk6"
      },
      "source": [
        "## Split the data into train and test set"
      ]
    },
    {
      "cell_type": "code",
      "metadata": {
        "id": "NiDszKAMWad8"
      },
      "source": [
        "from sklearn.model_selection import train_test_split\n",
        "x_train,x_test,y_train,y_test=train_test_split(np.array(df['dialogue']),np.array(df['summary']),test_size=0.1,random_state=10,shuffle=True)"
      ],
      "execution_count": 90,
      "outputs": []
    },
    {
      "cell_type": "markdown",
      "metadata": {
        "id": "tE1evfiHWr9V"
      },
      "source": [
        "## Modeling"
      ]
    },
    {
      "cell_type": "markdown",
      "metadata": {
        "id": "6-I1TJNSWud1"
      },
      "source": [
        "HuggingFace Transformers"
      ]
    },
    {
      "cell_type": "code",
      "metadata": {
        "colab": {
          "base_uri": "https://localhost:8080/"
        },
        "id": "r9kOpUaGWhOm",
        "outputId": "add2be60-90d1-4919-880f-fb107e3442dd"
      },
      "source": [
        "i = 5\n",
        "to_tokenize = df.iloc[i,0]\n",
        "label = df.iloc[i,1]\n",
        "\n",
        "summarizer = pipeline(\"summarization\")\n",
        "summarized = summarizer(to_tokenize, min_length=5, max_length=len(to_tokenize)//4)\n",
        "\n",
        "summary = summarized[0]['summary_text']\n",
        "\n",
        "# Print summarized text\n",
        "print('original text:', to_tokenize)\n",
        "print()\n",
        "print('original summary:',label)\n",
        "print()\n",
        "print('new summary:',summary)"
      ],
      "execution_count": 56,
      "outputs": [
        {
          "output_type": "stream",
          "text": [
            "original text: #Person1#: Happy birthday, Aims!#Person2#: Thank you, Lisa.#Person1#: Here is a present for you. I hope you like it.#Person2#: Oh, great! I love it! You know I've been expecting this for a long time.#Person1#: I'm very glad to hear that.#Person2#: Come here ; let me introduce some friends to you.\n",
            "\n",
            "original summary: Lisa gives Aims a birthday present and Aims loves it.\n",
            "\n",
            "new summary:  #Person1#: Happy birthday, Aims!#Person2#: Thank you, Lisa. I hope you like it. I've been expecting this for a long time. I love it! You know I'm very glad to hear that. Come here ; let me introduce some friends to you .\n"
          ],
          "name": "stdout"
        }
      ]
    },
    {
      "cell_type": "code",
      "metadata": {
        "colab": {
          "base_uri": "https://localhost:8080/"
        },
        "id": "hLbqSb5cWyh-",
        "outputId": "478fc913-1657-4307-97a1-265c8a1a8c1a"
      },
      "source": [
        "similar(summary, label)"
      ],
      "execution_count": 57,
      "outputs": [
        {
          "output_type": "execute_result",
          "data": {
            "text/plain": [
              "0.20437956204379562"
            ]
          },
          "metadata": {
            "tags": []
          },
          "execution_count": 57
        }
      ]
    },
    {
      "cell_type": "markdown",
      "metadata": {
        "id": "tcJujptTj7Hr"
      },
      "source": [
        "Cosine Similarity"
      ]
    },
    {
      "cell_type": "code",
      "metadata": {
        "id": "pOsBQO1Zj6iq"
      },
      "source": [
        "summary = generate_summary( df.iloc[i,0])\n",
        "\n",
        "# Print summarized text\n",
        "print('original text:', to_tokenize)\n",
        "print()\n",
        "print('original summary:',label)\n",
        "print()\n",
        "print('new summary:',summary)"
      ],
      "execution_count": null,
      "outputs": []
    },
    {
      "cell_type": "markdown",
      "metadata": {
        "id": "i5jsf6KlW6TK"
      },
      "source": [
        "Seq2Seq"
      ]
    },
    {
      "cell_type": "code",
      "metadata": {
        "id": "Bzoa0_1okFHI"
      },
      "source": [
        "similar(summary, label)"
      ],
      "execution_count": null,
      "outputs": []
    },
    {
      "cell_type": "code",
      "metadata": {
        "id": "LTst7BM3W9TW"
      },
      "source": [
        "# TOKENIZATION\n",
        "\n",
        "from keras.preprocessing.text import Tokenizer \n",
        "from keras.preprocessing.sequence import pad_sequences\n",
        "\n",
        "max_summary_len=100\n",
        "max_dialogue_len=600\n",
        "\n",
        "# Tokenize X_train\n",
        "x_tokenizer = Tokenizer() \n",
        "x_tokenizer.fit_on_texts(list(x_train))\n",
        "\n",
        "thresh=4\n",
        "cnt=0\n",
        "tot_cnt=0\n",
        "freq=0\n",
        "tot_freq=0\n",
        "\n",
        "for key,value in x_tokenizer.word_counts.items():\n",
        "    tot_cnt=tot_cnt+1\n",
        "    tot_freq=tot_freq+value\n",
        "    if(value<thresh):\n",
        "        cnt=cnt+1\n",
        "        freq=freq+value\n",
        "\n",
        "x_tokenizer = Tokenizer(num_words=tot_cnt-cnt) \n",
        "x_tokenizer.fit_on_texts(list(x_train))\n",
        "\n",
        "# convert text sequences into integer sequences\n",
        "x_tr_seq = x_tokenizer.texts_to_sequences(x_train) \n",
        "x_val_seq = x_tokenizer.texts_to_sequences(x_test)\n",
        "\n",
        "#padding zero upto max_len\n",
        "x_train = pad_sequences(x_tr_seq,  maxlen=max_dialogue_len, padding='post')\n",
        "x_test = pad_sequences(x_val_seq, maxlen=max_dialogue_len, padding='post')\n",
        "\n",
        "#size of vocabulary ( +1 for padding token)\n",
        "x_voc   =  x_tokenizer.num_words + 1"
      ],
      "execution_count": 91,
      "outputs": []
    },
    {
      "cell_type": "code",
      "metadata": {
        "id": "nKCLWjqAm1oW"
      },
      "source": [
        "# Tokenize y_train\n",
        "y_tokenizer = Tokenizer()   \n",
        "y_tokenizer.fit_on_texts(list(y_train))\n",
        "\n",
        "thresh=6\n",
        "cnt=0\n",
        "tot_cnt=0\n",
        "freq=0\n",
        "tot_freq=0\n",
        "\n",
        "for key,value in y_tokenizer.word_counts.items():\n",
        "    tot_cnt=tot_cnt+1\n",
        "    tot_freq=tot_freq+value\n",
        "    if(value<thresh):\n",
        "        cnt=cnt+1\n",
        "        freq=freq+value\n",
        "\n",
        "y_tokenizer = Tokenizer(num_words=tot_cnt-cnt) \n",
        "y_tokenizer.fit_on_texts(list(y_train))\n",
        "\n",
        "# convert text sequences into integer sequences\n",
        "y_train_seq    =   y_tokenizer.texts_to_sequences(y_train) \n",
        "y_test_seq   =   y_tokenizer.texts_to_sequences(y_test) \n",
        "\n",
        "#padding zero upto max_len\n",
        "y_train    =   pad_sequences(y_train_seq, maxlen=max_summary_len, padding='post')\n",
        "y_test   =   pad_sequences(y_test_seq, maxlen=max_summary_len, padding='post')\n",
        "\n",
        "#size of vocabulary\n",
        "y_voc  =   y_tokenizer.num_words +1"
      ],
      "execution_count": 92,
      "outputs": []
    },
    {
      "cell_type": "code",
      "metadata": {
        "colab": {
          "base_uri": "https://localhost:8080/"
        },
        "id": "6lY21M0f17xE",
        "outputId": "d0bb9f81-8e9c-4367-f0d9-7fb84a47362b"
      },
      "source": [
        "from keras import backend as K \n",
        "K.clear_session()\n",
        "\n",
        "latent_dim = 100\n",
        "embedding_dim = 110\n",
        "\n",
        "# Encoder\n",
        "encoder_inputs = Input(shape=(max_dialogue_len,))\n",
        "\n",
        "#embedding layer\n",
        "enc_emb =  Embedding(x_voc, embedding_dim,trainable=True)(encoder_inputs)\n",
        "\n",
        "#encoder lstm 1\n",
        "encoder_lstm1 = LSTM(latent_dim,return_sequences=True,return_state=True,dropout=0.4,recurrent_dropout=0.4)\n",
        "encoder_output1, state_h1, state_c1 = encoder_lstm1(enc_emb)\n",
        "\n",
        "#encoder lstm 2\n",
        "encoder_lstm2 = LSTM(latent_dim,return_sequences=True,return_state=True,dropout=0.4,recurrent_dropout=0.4)\n",
        "encoder_output2, state_h2, state_c2 = encoder_lstm2(encoder_output1)\n",
        "\n",
        "#encoder lstm 3\n",
        "encoder_lstm3=LSTM(latent_dim, return_state=True, return_sequences=True,dropout=0.4,recurrent_dropout=0.4)\n",
        "encoder_outputs, state_h, state_c= encoder_lstm3(encoder_output2)\n",
        "\n",
        "# Set up the decoder, using `encoder_states` as initial state.\n",
        "decoder_inputs = Input(shape=(None,))\n",
        "\n",
        "#embedding layer\n",
        "dec_emb_layer = Embedding(y_voc, embedding_dim,trainable=True)\n",
        "dec_emb = dec_emb_layer(decoder_inputs)\n",
        "\n",
        "decoder_lstm = LSTM(latent_dim, return_sequences=True, return_state=True,dropout=0.4,recurrent_dropout=0.2)\n",
        "decoder_outputs,decoder_fwd_state, decoder_back_state = decoder_lstm(dec_emb,initial_state=[state_h, state_c])\n",
        "\n",
        "# Attention layer\n",
        "attn_layer = AttentionLayer(name='attention_layer')\n",
        "attn_out, attn_states = attn_layer([encoder_outputs, decoder_outputs])\n",
        "\n",
        "# Concat attention input and decoder LSTM output\n",
        "decoder_concat_input = Concatenate(axis=-1, name='concat_layer')([decoder_outputs, attn_out])\n",
        "\n",
        "#dense layer\n",
        "decoder_dense =  TimeDistributed(Dense(y_voc, activation='softmax'))\n",
        "decoder_outputs = decoder_dense(decoder_concat_input)\n",
        "\n",
        "# Define the model \n",
        "model = Model([encoder_inputs, decoder_inputs], decoder_outputs)\n",
        "\n",
        "model.summary()"
      ],
      "execution_count": 96,
      "outputs": [
        {
          "output_type": "stream",
          "text": [
            "WARNING:tensorflow:Layer lstm will not use cuDNN kernels since it doesn't meet the criteria. It will use a generic GPU kernel as fallback when running on GPU.\n",
            "WARNING:tensorflow:Layer lstm_1 will not use cuDNN kernels since it doesn't meet the criteria. It will use a generic GPU kernel as fallback when running on GPU.\n",
            "WARNING:tensorflow:Layer lstm_2 will not use cuDNN kernels since it doesn't meet the criteria. It will use a generic GPU kernel as fallback when running on GPU.\n",
            "WARNING:tensorflow:Layer lstm_3 will not use cuDNN kernels since it doesn't meet the criteria. It will use a generic GPU kernel as fallback when running on GPU.\n",
            "Model: \"model\"\n",
            "__________________________________________________________________________________________________\n",
            "Layer (type)                    Output Shape         Param #     Connected to                     \n",
            "==================================================================================================\n",
            "input_11 (InputLayer)           [(None, 600)]        0                                            \n",
            "__________________________________________________________________________________________________\n",
            "embedding (Embedding)           (None, 600, 110)     1031360     input_11[0][0]                   \n",
            "__________________________________________________________________________________________________\n",
            "lstm (LSTM)                     [(None, 600, 100), ( 84400       embedding[0][0]                  \n",
            "__________________________________________________________________________________________________\n",
            "input_12 (InputLayer)           [(None, None)]       0                                            \n",
            "__________________________________________________________________________________________________\n",
            "lstm_1 (LSTM)                   [(None, 600, 100), ( 80400       lstm[0][0]                       \n",
            "__________________________________________________________________________________________________\n",
            "embedding_1 (Embedding)         (None, None, 110)    378400      input_12[0][0]                   \n",
            "__________________________________________________________________________________________________\n",
            "lstm_2 (LSTM)                   [(None, 600, 100), ( 80400       lstm_1[0][0]                     \n",
            "__________________________________________________________________________________________________\n",
            "lstm_3 (LSTM)                   [(None, None, 100),  84400       embedding_1[0][0]                \n",
            "                                                                 lstm_2[0][1]                     \n",
            "                                                                 lstm_2[0][2]                     \n",
            "__________________________________________________________________________________________________\n",
            "attention_layer (AttentionLayer ((None, None, 100),  20100       lstm_2[0][0]                     \n",
            "                                                                 lstm_3[0][0]                     \n",
            "__________________________________________________________________________________________________\n",
            "concat_layer (Concatenate)      (None, None, 200)    0           lstm_3[0][0]                     \n",
            "                                                                 attention_layer[0][0]            \n",
            "__________________________________________________________________________________________________\n",
            "time_distributed (TimeDistribut (None, None, 3440)   691440      concat_layer[0][0]               \n",
            "==================================================================================================\n",
            "Total params: 2,450,900\n",
            "Trainable params: 2,450,900\n",
            "Non-trainable params: 0\n",
            "__________________________________________________________________________________________________\n"
          ],
          "name": "stdout"
        }
      ]
    },
    {
      "cell_type": "code",
      "metadata": {
        "colab": {
          "base_uri": "https://localhost:8080/"
        },
        "id": "w9I1X8pX1-Aa",
        "outputId": "5ef60df8-c7ae-4082-b688-1dc527c86bea"
      },
      "source": [
        "model.compile(optimizer='rmsprop', loss='sparse_categorical_crossentropy')\n",
        "es = EarlyStopping(monitor='val_loss', mode='min', verbose=1,patience=2)\n",
        "history=model.fit([x_train,y_train[:,:-1]], y_train.reshape(y_train.shape[0],y_train.shape[1], 1)[:,1:] ,epochs=5,callbacks=[es],batch_size=128, validation_data=([x_test,y_test[:,:-1]], y_test.reshape(y_test.shape[0],y_test.shape[1], 1)[:,1:]))"
      ],
      "execution_count": 62,
      "outputs": [
        {
          "output_type": "stream",
          "text": [
            "Epoch 1/5\n",
            "92/92 [==============================] - 687s 7s/step - loss: 1.3546 - val_loss: 1.2698\n",
            "Epoch 2/5\n",
            "92/92 [==============================] - 672s 7s/step - loss: 1.2628 - val_loss: 1.2095\n",
            "Epoch 3/5\n",
            "92/92 [==============================] - 668s 7s/step - loss: 1.1916 - val_loss: 1.1373\n",
            "Epoch 4/5\n",
            "92/92 [==============================] - 668s 7s/step - loss: 1.1333 - val_loss: 1.1017\n",
            "Epoch 5/5\n",
            "92/92 [==============================] - 667s 7s/step - loss: 1.0978 - val_loss: 1.0695\n"
          ],
          "name": "stdout"
        }
      ]
    },
    {
      "cell_type": "code",
      "metadata": {
        "id": "8QbGx8Sx2Gj5"
      },
      "source": [
        "max_summary_len=100\n",
        "max_dialogue_len=600\n",
        "\n",
        "reverse_target_word_index=y_tokenizer.index_word\n",
        "reverse_source_word_index=x_tokenizer.index_word\n",
        "target_word_index=y_tokenizer.word_index\n",
        "\n",
        "# Encode the input sequence to get the feature vector\n",
        "encoder_model = Model(inputs=encoder_inputs,outputs=[encoder_outputs, state_h, state_c])\n",
        "\n",
        "# Decoder setup\n",
        "# Below tensors will hold the states of the previous time step\n",
        "decoder_state_input_h = Input(shape=(latent_dim,))\n",
        "decoder_state_input_c = Input(shape=(latent_dim,))\n",
        "decoder_hidden_state_input = Input(shape=(max_dialogue_len,latent_dim))\n",
        "\n",
        "# Get the embeddings of the decoder sequence\n",
        "dec_emb2= dec_emb_layer(decoder_inputs) \n",
        "# To predict the next word in the sequence, set the initial states to the states from the previous time step\n",
        "decoder_outputs2, state_h2, state_c2 = decoder_lstm(dec_emb2, initial_state=[decoder_state_input_h, decoder_state_input_c])\n",
        "\n",
        "#attention inference\n",
        "attn_out_inf, attn_states_inf = attn_layer([decoder_hidden_state_input, decoder_outputs2])\n",
        "decoder_inf_concat = Concatenate(axis=-1, name='concat')([decoder_outputs2, attn_out_inf])\n",
        "\n",
        "# A dense softmax layer to generate prob dist. over the target vocabulary\n",
        "decoder_outputs2 = decoder_dense(decoder_inf_concat) \n",
        "\n",
        "# Final decoder model\n",
        "decoder_model = Model(\n",
        "    [decoder_inputs] + [decoder_hidden_state_input,decoder_state_input_h, decoder_state_input_c],\n",
        "    [decoder_outputs2] + [state_h2, state_c2])\n",
        "\n",
        "def decode_sequence(input_seq):\n",
        "    # Encode the input as state vectors.\n",
        "    e_out, e_h, e_c = encoder_model.predict(input_seq)\n",
        "    \n",
        "    # Generate empty target sequence of length 1.\n",
        "    target_seq = np.zeros((1,1))\n",
        "    \n",
        "    # Populate the first word of target sequence with the start word.\n",
        "    target_seq[0, 0] = target_word_index['sostok']\n",
        "\n",
        "    stop_condition = False\n",
        "    decoded_sentence = ''\n",
        "    while not stop_condition:\n",
        "      \n",
        "        output_tokens, h, c = decoder_model.predict([target_seq] + [e_out, e_h, e_c])\n",
        "\n",
        "        # Sample a token\n",
        "        sampled_token_index = np.argmax(output_tokens[0, -1, :])\n",
        "        sampled_token = reverse_target_word_index[sampled_token_index]\n",
        "        \n",
        "        if(sampled_token!='eostok'):\n",
        "            decoded_sentence += ' '+sampled_token\n",
        "\n",
        "        # Exit condition: either hit max length or find stop word.\n",
        "        if (sampled_token == 'eostok'  or len(decoded_sentence.split()) >= (max_summary_len-1)):\n",
        "            stop_condition = True\n",
        "\n",
        "        # Update the target sequence (of length 1).\n",
        "        target_seq = np.zeros((1,1))\n",
        "        target_seq[0, 0] = sampled_token_index\n",
        "\n",
        "        # Update internal states\n",
        "        e_h, e_c = h, c\n",
        "\n",
        "    return decoded_sentence\n",
        "\n",
        "def seq2summary(input_seq):\n",
        "    newString=''\n",
        "    for i in input_seq:\n",
        "        if((i!=0 and i!=target_word_index['sostok']) and i!=target_word_index['eostok']):\n",
        "          newString=newString+reverse_target_word_index[i]+' '\n",
        "    return newString\n",
        "\n",
        "def seq2text(input_seq):\n",
        "    newString=''\n",
        "    for i in input_seq:\n",
        "        if(i!=0):\n",
        "            newString=newString+reverse_source_word_index[i]+' '\n",
        "    return newString"
      ],
      "execution_count": 100,
      "outputs": []
    },
    {
      "cell_type": "markdown",
      "metadata": {
        "id": "V-KRAKLJhTYA"
      },
      "source": [
        "## Evaluation"
      ]
    },
    {
      "cell_type": "code",
      "metadata": {
        "colab": {
          "base_uri": "https://localhost:8080/"
        },
        "id": "8Vr63b3PhJ6X",
        "outputId": "39f8ff71-c50e-47cf-fffa-371da32488d2"
      },
      "source": [
        "# calculate the mean score for each model\n",
        "\n",
        "\n",
        "from sklearn.model_selection import train_test_split\n",
        "x_train1,x_test1,y_train1,y_test1=train_test_split(np.array(df['dialogue']),np.array(df['summary']),test_size=0.1,random_state=10,shuffle=True)\n",
        "\n",
        "\n",
        "transformers_scores = []\n",
        "seq2seq_scores = []\n",
        "cosine_sim_scores = []\n",
        "for i in range(30):\n",
        "  print(i)\n",
        "\n",
        "  # labels for Seq2Seq (tokenized)\n",
        "  dialogue = x_test[i]\n",
        "  label = y_test[i]\n",
        "  # labels for Transformers and Cosine Sim (untokenized)\n",
        "  dialogue1 = x_test1[i]\n",
        "  label1 = y_test1[i]\n",
        "\n",
        "  # Transformers\n",
        "  summary = summarizer(dialogue1, min_length=5, max_length=len(dialogue)//4)[0]['summary_text']\n",
        "\n",
        "  transformers_scores.append(similar(summary, label))\n",
        "\n",
        "  # Seq2Seq\n",
        "  #summary = decode_sequence(dialogue.reshape(1,max_dialogue_len))\n",
        "  #seq2seq_scores.append(similar(summary, label1)) \n",
        "\n",
        "  # cosine similarity\n",
        "  summary = generate_summary( df.iloc[i,0])\n",
        "  cosine_sim_scores.append(similar(summary, label)) \n",
        "\n",
        "\n",
        "print('transformers mean score:', sum(transformers_scores)/len(transformers_scores))\n",
        "#print('seq2seq mean score:', sum(seq2seq_scores)/len(seq2seq_scores)) ## final score 0.11\n",
        "print('cosine similarity score:', sum(cosine_sim_scores)/len(cosine_sim_scores))"
      ],
      "execution_count": 102,
      "outputs": [
        {
          "output_type": "stream",
          "text": [
            "Your max_length is set to 150, but you input_length is only 83. You might consider decreasing max_length manually, e.g. summarizer('...', max_length=50)\n"
          ],
          "name": "stderr"
        },
        {
          "output_type": "stream",
          "text": [
            "0\n"
          ],
          "name": "stdout"
        },
        {
          "output_type": "stream",
          "text": [
            "Your max_length is set to 150, but you input_length is only 75. You might consider decreasing max_length manually, e.g. summarizer('...', max_length=50)\n"
          ],
          "name": "stderr"
        },
        {
          "output_type": "stream",
          "text": [
            "1\n",
            "2\n"
          ],
          "name": "stdout"
        },
        {
          "output_type": "stream",
          "text": [
            "Your max_length is set to 150, but you input_length is only 86. You might consider decreasing max_length manually, e.g. summarizer('...', max_length=50)\n"
          ],
          "name": "stderr"
        },
        {
          "output_type": "stream",
          "text": [
            "3\n"
          ],
          "name": "stdout"
        },
        {
          "output_type": "stream",
          "text": [
            "Your max_length is set to 150, but you input_length is only 149. You might consider decreasing max_length manually, e.g. summarizer('...', max_length=50)\n"
          ],
          "name": "stderr"
        },
        {
          "output_type": "stream",
          "text": [
            "4\n"
          ],
          "name": "stdout"
        },
        {
          "output_type": "stream",
          "text": [
            "Your max_length is set to 150, but you input_length is only 90. You might consider decreasing max_length manually, e.g. summarizer('...', max_length=50)\n"
          ],
          "name": "stderr"
        },
        {
          "output_type": "stream",
          "text": [
            "5\n"
          ],
          "name": "stdout"
        },
        {
          "output_type": "stream",
          "text": [
            "Your max_length is set to 150, but you input_length is only 79. You might consider decreasing max_length manually, e.g. summarizer('...', max_length=50)\n"
          ],
          "name": "stderr"
        },
        {
          "output_type": "stream",
          "text": [
            "6\n"
          ],
          "name": "stdout"
        },
        {
          "output_type": "stream",
          "text": [
            "Your max_length is set to 150, but you input_length is only 86. You might consider decreasing max_length manually, e.g. summarizer('...', max_length=50)\n"
          ],
          "name": "stderr"
        },
        {
          "output_type": "stream",
          "text": [
            "7\n",
            "8\n",
            "9\n"
          ],
          "name": "stdout"
        },
        {
          "output_type": "stream",
          "text": [
            "Your max_length is set to 150, but you input_length is only 134. You might consider decreasing max_length manually, e.g. summarizer('...', max_length=50)\n"
          ],
          "name": "stderr"
        },
        {
          "output_type": "stream",
          "text": [
            "10\n",
            "11\n",
            "12\n"
          ],
          "name": "stdout"
        },
        {
          "output_type": "stream",
          "text": [
            "Your max_length is set to 150, but you input_length is only 130. You might consider decreasing max_length manually, e.g. summarizer('...', max_length=50)\n"
          ],
          "name": "stderr"
        },
        {
          "output_type": "stream",
          "text": [
            "13\n",
            "14\n",
            "15\n",
            "16\n",
            "17\n",
            "18\n",
            "19\n",
            "20\n",
            "21\n",
            "22\n",
            "23\n",
            "24\n",
            "25\n",
            "26\n",
            "27\n",
            "28\n"
          ],
          "name": "stdout"
        },
        {
          "output_type": "stream",
          "text": [
            "Your max_length is set to 150, but you input_length is only 55. You might consider decreasing max_length manually, e.g. summarizer('...', max_length=50)\n"
          ],
          "name": "stderr"
        },
        {
          "output_type": "stream",
          "text": [
            "29\n",
            "transformers mean score: 0.0\n",
            "cosine similarity score: 0.0\n"
          ],
          "name": "stdout"
        }
      ]
    },
    {
      "cell_type": "markdown",
      "metadata": {
        "id": "g4rMETevs024"
      },
      "source": [
        "Note on Seq2Seq Evaluation: Because of some advanced preprocessing techniques used, code to generate summaries and (scores) from the seq2seq model got lost accidentaly making it difficult to figure it out again within the time limit. The score of 11% is based on the previous conclutions before the code broke. "
      ]
    },
    {
      "cell_type": "code",
      "metadata": {
        "id": "TMW0LfL3wimB",
        "colab": {
          "base_uri": "https://localhost:8080/",
          "height": 350
        },
        "outputId": "163af354-5e65-4a29-ccbe-68bfd23c1b5f"
      },
      "source": [
        "import matplotlib.pyplot as plt\n",
        "plt.hist(transformers_scores)"
      ],
      "execution_count": null,
      "outputs": [
        {
          "output_type": "execute_result",
          "data": {
            "text/plain": [
              "(array([5., 1., 1., 1., 3., 3., 4., 6., 2., 4.]),\n",
              " array([0.01941748, 0.06885694, 0.11829641, 0.16773588, 0.21717535,\n",
              "        0.26661482, 0.31605428, 0.36549375, 0.41493322, 0.46437269,\n",
              "        0.51381215]),\n",
              " <a list of 10 Patch objects>)"
            ]
          },
          "metadata": {
            "tags": []
          },
          "execution_count": 63
        },
        {
          "output_type": "display_data",
          "data": {
            "image/png": "[encoded data removed]",
            "text/plain": [
              "<Figure size 432x288 with 1 Axes>"
            ]
          },
          "metadata": {
            "tags": [],
            "needs_background": "light"
          }
        }
      ]
    },
    {
      "cell_type": "code",
      "metadata": {
        "colab": {
          "base_uri": "https://localhost:8080/",
          "height": 350
        },
        "id": "21vtpmP5yDzP",
        "outputId": "18128bc8-adcd-44b6-b775-e5d14facac32"
      },
      "source": [
        "plt.hist(cosine_sim_scores)"
      ],
      "execution_count": null,
      "outputs": [
        {
          "output_type": "execute_result",
          "data": {
            "text/plain": [
              "(array([6., 3., 2., 2., 2., 2., 4., 4., 2., 3.]),\n",
              " array([0.        , 0.04610592, 0.09221184, 0.13831776, 0.18442368,\n",
              "        0.2305296 , 0.27663551, 0.32274143, 0.36884735, 0.41495327,\n",
              "        0.46105919]),\n",
              " <a list of 10 Patch objects>)"
            ]
          },
          "metadata": {
            "tags": []
          },
          "execution_count": 64
        },
        {
          "output_type": "display_data",
          "data": {
            "image/png": "[encoded data removed]",
            "text/plain": [
              "<Figure size 432x288 with 1 Axes>"
            ]
          },
          "metadata": {
            "tags": [],
            "needs_background": "light"
          }
        }
      ]
    }
  ]
}